{
 "cells": [
  {
   "cell_type": "code",
   "execution_count": 12,
   "id": "46be8f67",
   "metadata": {},
   "outputs": [
    {
     "name": "stderr",
     "output_type": "stream",
     "text": [
      "Der Befehl \"wget\" ist entweder falsch geschrieben oder\n",
      "konnte nicht gefunden werden.\n"
     ]
    }
   ],
   "source": [
    "!wget https://raw.githubusercontent.com/alexeygrigorev/datasets/master/car_fuel_efficiency.csv"
   ]
  },
  {
   "cell_type": "code",
   "execution_count": 13,
   "id": "5f90da58",
   "metadata": {},
   "outputs": [],
   "source": [
    "import numpy as np\n",
    "import pandas as pd\n",
    "import matplotlib.pyplot as plt\n",
    "import seaborn as sns"
   ]
  },
  {
   "cell_type": "code",
   "execution_count": 14,
   "id": "3ff4ecb3",
   "metadata": {},
   "outputs": [],
   "source": [
    "sns.set_style(\"whitegrid\")"
   ]
  },
  {
   "cell_type": "code",
   "execution_count": 15,
   "id": "d3014b41",
   "metadata": {},
   "outputs": [
    {
     "data": {
      "text/html": [
       "<div>\n",
       "<style scoped>\n",
       "    .dataframe tbody tr th:only-of-type {\n",
       "        vertical-align: middle;\n",
       "    }\n",
       "\n",
       "    .dataframe tbody tr th {\n",
       "        vertical-align: top;\n",
       "    }\n",
       "\n",
       "    .dataframe thead th {\n",
       "        text-align: right;\n",
       "    }\n",
       "</style>\n",
       "<table border=\"1\" class=\"dataframe\">\n",
       "  <thead>\n",
       "    <tr style=\"text-align: right;\">\n",
       "      <th></th>\n",
       "      <th>engine_displacement</th>\n",
       "      <th>num_cylinders</th>\n",
       "      <th>horsepower</th>\n",
       "      <th>vehicle_weight</th>\n",
       "      <th>acceleration</th>\n",
       "      <th>model_year</th>\n",
       "      <th>origin</th>\n",
       "      <th>fuel_type</th>\n",
       "      <th>drivetrain</th>\n",
       "      <th>num_doors</th>\n",
       "      <th>fuel_efficiency_mpg</th>\n",
       "    </tr>\n",
       "  </thead>\n",
       "  <tbody>\n",
       "    <tr>\n",
       "      <th>483</th>\n",
       "      <td>220</td>\n",
       "      <td>3.0</td>\n",
       "      <td>144.0</td>\n",
       "      <td>2535.887591</td>\n",
       "      <td>18.7</td>\n",
       "      <td>2009</td>\n",
       "      <td>USA</td>\n",
       "      <td>Gasoline</td>\n",
       "      <td>All-wheel drive</td>\n",
       "      <td>2.0</td>\n",
       "      <td>16.642943</td>\n",
       "    </tr>\n",
       "    <tr>\n",
       "      <th>7506</th>\n",
       "      <td>160</td>\n",
       "      <td>2.0</td>\n",
       "      <td>141.0</td>\n",
       "      <td>2741.170484</td>\n",
       "      <td>14.3</td>\n",
       "      <td>2019</td>\n",
       "      <td>Asia</td>\n",
       "      <td>Diesel</td>\n",
       "      <td>Front-wheel drive</td>\n",
       "      <td>2.0</td>\n",
       "      <td>16.298377</td>\n",
       "    </tr>\n",
       "    <tr>\n",
       "      <th>8795</th>\n",
       "      <td>230</td>\n",
       "      <td>3.0</td>\n",
       "      <td>155.0</td>\n",
       "      <td>2471.880237</td>\n",
       "      <td>NaN</td>\n",
       "      <td>2017</td>\n",
       "      <td>Asia</td>\n",
       "      <td>Diesel</td>\n",
       "      <td>Front-wheel drive</td>\n",
       "      <td>2.0</td>\n",
       "      <td>18.591822</td>\n",
       "    </tr>\n",
       "  </tbody>\n",
       "</table>\n",
       "</div>"
      ],
      "text/plain": [
       "      engine_displacement  num_cylinders  horsepower  vehicle_weight  \\\n",
       "483                   220            3.0       144.0     2535.887591   \n",
       "7506                  160            2.0       141.0     2741.170484   \n",
       "8795                  230            3.0       155.0     2471.880237   \n",
       "\n",
       "      acceleration  model_year origin fuel_type         drivetrain  num_doors  \\\n",
       "483           18.7        2009    USA  Gasoline    All-wheel drive        2.0   \n",
       "7506          14.3        2019   Asia    Diesel  Front-wheel drive        2.0   \n",
       "8795           NaN        2017   Asia    Diesel  Front-wheel drive        2.0   \n",
       "\n",
       "      fuel_efficiency_mpg  \n",
       "483             16.642943  \n",
       "7506            16.298377  \n",
       "8795            18.591822  "
      ]
     },
     "execution_count": 15,
     "metadata": {},
     "output_type": "execute_result"
    }
   ],
   "source": [
    "url = \"https://raw.githubusercontent.com/alexeygrigorev/datasets/master/car_fuel_efficiency.csv\"\n",
    "df = pd.read_csv(url)\n",
    "df.sample(3, random_state=42)"
   ]
  },
  {
   "cell_type": "code",
   "execution_count": 16,
   "id": "8d05fae9",
   "metadata": {},
   "outputs": [
    {
     "data": {
      "text/html": [
       "<div>\n",
       "<style scoped>\n",
       "    .dataframe tbody tr th:only-of-type {\n",
       "        vertical-align: middle;\n",
       "    }\n",
       "\n",
       "    .dataframe tbody tr th {\n",
       "        vertical-align: top;\n",
       "    }\n",
       "\n",
       "    .dataframe thead th {\n",
       "        text-align: right;\n",
       "    }\n",
       "</style>\n",
       "<table border=\"1\" class=\"dataframe\">\n",
       "  <thead>\n",
       "    <tr style=\"text-align: right;\">\n",
       "      <th></th>\n",
       "      <th>engine_displacement</th>\n",
       "      <th>horsepower</th>\n",
       "      <th>vehicle_weight</th>\n",
       "      <th>model_year</th>\n",
       "      <th>fuel_efficiency_mpg</th>\n",
       "    </tr>\n",
       "  </thead>\n",
       "  <tbody>\n",
       "    <tr>\n",
       "      <th>483</th>\n",
       "      <td>220</td>\n",
       "      <td>144.0</td>\n",
       "      <td>2535.887591</td>\n",
       "      <td>2009</td>\n",
       "      <td>16.642943</td>\n",
       "    </tr>\n",
       "    <tr>\n",
       "      <th>7506</th>\n",
       "      <td>160</td>\n",
       "      <td>141.0</td>\n",
       "      <td>2741.170484</td>\n",
       "      <td>2019</td>\n",
       "      <td>16.298377</td>\n",
       "    </tr>\n",
       "    <tr>\n",
       "      <th>8795</th>\n",
       "      <td>230</td>\n",
       "      <td>155.0</td>\n",
       "      <td>2471.880237</td>\n",
       "      <td>2017</td>\n",
       "      <td>18.591822</td>\n",
       "    </tr>\n",
       "  </tbody>\n",
       "</table>\n",
       "</div>"
      ],
      "text/plain": [
       "      engine_displacement  horsepower  vehicle_weight  model_year  \\\n",
       "483                   220       144.0     2535.887591        2009   \n",
       "7506                  160       141.0     2741.170484        2019   \n",
       "8795                  230       155.0     2471.880237        2017   \n",
       "\n",
       "      fuel_efficiency_mpg  \n",
       "483             16.642943  \n",
       "7506            16.298377  \n",
       "8795            18.591822  "
      ]
     },
     "execution_count": 16,
     "metadata": {},
     "output_type": "execute_result"
    }
   ],
   "source": [
    "cols = [\n",
    "    \"engine_displacement\",\n",
    "    \"horsepower\",\n",
    "    \"vehicle_weight\",\n",
    "    \"model_year\",\n",
    "    \"fuel_efficiency_mpg\",\n",
    "]\n",
    "\n",
    "df = df.loc[:, cols]\n",
    "df.sample(3, random_state=42)"
   ]
  },
  {
   "cell_type": "code",
   "execution_count": 17,
   "id": "9c6bfc65",
   "metadata": {},
   "outputs": [
    {
     "data": {
      "image/png": "[encoded data removed]",
      "text/plain": [
       "<Figure size 640x480 with 1 Axes>"
      ]
     },
     "metadata": {},
     "output_type": "display_data"
    }
   ],
   "source": [
    "sns.histplot(data=df, x=\"fuel_efficiency_mpg\")\n",
    "plt.title(\"Histogram of Fuel Efficiency MPG\")\n",
    "plt.xlabel(\"Fuel efficenccy MPG\")\n",
    "plt.show()"
   ]
  },
  {
   "cell_type": "markdown",
   "id": "6d207fb2",
   "metadata": {},
   "source": [
    "Q1: There's one column with missing values. What is it?"
   ]
  },
  {
   "cell_type": "code",
   "execution_count": 18,
   "id": "f2780f1b",
   "metadata": {},
   "outputs": [
    {
     "data": {
      "text/html": [
       "<div>\n",
       "<style scoped>\n",
       "    .dataframe tbody tr th:only-of-type {\n",
       "        vertical-align: middle;\n",
       "    }\n",
       "\n",
       "    .dataframe tbody tr th {\n",
       "        vertical-align: top;\n",
       "    }\n",
       "\n",
       "    .dataframe thead th {\n",
       "        text-align: right;\n",
       "    }\n",
       "</style>\n",
       "<table border=\"1\" class=\"dataframe\">\n",
       "  <thead>\n",
       "    <tr style=\"text-align: right;\">\n",
       "      <th></th>\n",
       "      <th>index</th>\n",
       "      <th>missing</th>\n",
       "    </tr>\n",
       "  </thead>\n",
       "  <tbody>\n",
       "    <tr>\n",
       "      <th>1</th>\n",
       "      <td>horsepower</td>\n",
       "      <td>708</td>\n",
       "    </tr>\n",
       "  </tbody>\n",
       "</table>\n",
       "</div>"
      ],
      "text/plain": [
       "        index  missing\n",
       "1  horsepower      708"
      ]
     },
     "execution_count": 18,
     "metadata": {},
     "output_type": "execute_result"
    }
   ],
   "source": [
    "(df.isnull().sum().reset_index(name=\"missing\").query(\"missing > 0\"))"
   ]
  },
  {
   "cell_type": "markdown",
   "id": "49a1b4d4",
   "metadata": {},
   "source": [
    "A1: horsepower"
   ]
  },
  {
   "cell_type": "markdown",
   "id": "d517a144",
   "metadata": {},
   "source": [
    "Q2: What's the median (50% percentile) for variable \"horsepower\"?"
   ]
  },
  {
   "cell_type": "code",
   "execution_count": 19,
   "id": "d372eb4f",
   "metadata": {},
   "outputs": [
    {
     "name": "stdout",
     "output_type": "stream",
     "text": [
      "The median (50% percentil) for horsepower is 149.0\n"
     ]
    }
   ],
   "source": [
    "print(f\"The median (50% percentil) for horsepower is {df.horsepower.median()}\")"
   ]
  },
  {
   "cell_type": "markdown",
   "id": "e8800f5a",
   "metadata": {},
   "source": [
    "A2: 149"
   ]
  },
  {
   "cell_type": "markdown",
   "id": "34fb6e8a",
   "metadata": {},
   "source": [
    "### Prepare and split the dataset\n",
    "\n",
    "- Shuffle the dataset (the filtered one you created above), use seed `42`.\n",
    "- Split your data in train/val/test sets, with 60/20/20 distribution."
   ]
  },
  {
   "cell_type": "code",
   "execution_count": 20,
   "id": "deb73376",
   "metadata": {},
   "outputs": [
    {
     "data": {
      "text/plain": [
       "True"
      ]
     },
     "execution_count": 20,
     "metadata": {},
     "output_type": "execute_result"
    }
   ],
   "source": [
    "# size of train/val/test sets\n",
    "n = len(df)\n",
    "n_val = int(n * 0.2)\n",
    "n_test = int(n * 0.2)\n",
    "n_train = n - n_val - n_test\n",
    "\n",
    "n == (n_train + n_test + n_val)"
   ]
  },
  {
   "cell_type": "code",
   "execution_count": 21,
   "id": "92d0f817",
   "metadata": {},
   "outputs": [],
   "source": [
    "# shuffle the dataset and create the sets\n",
    "idx = np.arange(n)\n",
    "\n",
    "np.random.seed(42)\n",
    "np.random.shuffle(idx)\n",
    "\n",
    "df_train = df.iloc[idx[:n_train]].copy()\n",
    "df_val = df.iloc[idx[n_train : n_train + n_val]].copy()\n",
    "df_test = df.iloc[idx[n_train + n_val :]].copy()"
   ]
  },
  {
   "cell_type": "code",
   "execution_count": 22,
   "id": "e2cf03bf",
   "metadata": {},
   "outputs": [
    {
     "data": {
      "text/html": [
       "<div>\n",
       "<style scoped>\n",
       "    .dataframe tbody tr th:only-of-type {\n",
       "        vertical-align: middle;\n",
       "    }\n",
       "\n",
       "    .dataframe tbody tr th {\n",
       "        vertical-align: top;\n",
       "    }\n",
       "\n",
       "    .dataframe thead th {\n",
       "        text-align: right;\n",
       "    }\n",
       "</style>\n",
       "<table border=\"1\" class=\"dataframe\">\n",
       "  <thead>\n",
       "    <tr style=\"text-align: right;\">\n",
       "      <th></th>\n",
       "      <th>engine_displacement</th>\n",
       "      <th>horsepower</th>\n",
       "      <th>vehicle_weight</th>\n",
       "      <th>model_year</th>\n",
       "      <th>fuel_efficiency_mpg</th>\n",
       "    </tr>\n",
       "  </thead>\n",
       "  <tbody>\n",
       "    <tr>\n",
       "      <th>483</th>\n",
       "      <td>220</td>\n",
       "      <td>144.0</td>\n",
       "      <td>2535.887591</td>\n",
       "      <td>2009</td>\n",
       "      <td>16.642943</td>\n",
       "    </tr>\n",
       "    <tr>\n",
       "      <th>7506</th>\n",
       "      <td>160</td>\n",
       "      <td>141.0</td>\n",
       "      <td>2741.170484</td>\n",
       "      <td>2019</td>\n",
       "      <td>16.298377</td>\n",
       "    </tr>\n",
       "    <tr>\n",
       "      <th>8795</th>\n",
       "      <td>230</td>\n",
       "      <td>155.0</td>\n",
       "      <td>2471.880237</td>\n",
       "      <td>2017</td>\n",
       "      <td>18.591822</td>\n",
       "    </tr>\n",
       "  </tbody>\n",
       "</table>\n",
       "</div>"
      ],
      "text/plain": [
       "      engine_displacement  horsepower  vehicle_weight  model_year  \\\n",
       "483                   220       144.0     2535.887591        2009   \n",
       "7506                  160       141.0     2741.170484        2019   \n",
       "8795                  230       155.0     2471.880237        2017   \n",
       "\n",
       "      fuel_efficiency_mpg  \n",
       "483             16.642943  \n",
       "7506            16.298377  \n",
       "8795            18.591822  "
      ]
     },
     "execution_count": 22,
     "metadata": {},
     "output_type": "execute_result"
    }
   ],
   "source": [
    "df_train.head(3)"
   ]
  },
  {
   "cell_type": "markdown",
   "id": "fd9dd542",
   "metadata": {},
   "source": [
    "Q3: Filling NAs"
   ]
  },
  {
   "cell_type": "markdown",
   "id": "8ac6802f",
   "metadata": {},
   "source": [
    "Notes:\n",
    "- We need to deal with missing values for the column from Q1.\n",
    "- We have two options: fill it with 0 or with the mean of this variable.\n",
    "- Try both options. For each, train a linear regression model without regularization using the code from the lessons.\n",
    "- For computing the mean, use the training only!\n",
    "- Use the validation dataset to evaluate the models and compare the RMSE of each option.\n",
    "- Round the RMSE scores to 2 decimal digits using round(score, 2)\n",
    "- Which option gives better RMSE?"
   ]
  },
  {
   "cell_type": "code",
   "execution_count": 23,
   "id": "124b7040",
   "metadata": {},
   "outputs": [],
   "source": [
    "target = \"fuel_efficiency_mpg\"\n",
    "features = df.columns[df.columns != target].tolist()\n",
    "\n",
    "\n",
    "def train_linear_regression(X, y):\n",
    "    \"\"\"\n",
    "    Trains a linear regression model using the normal equation.\n",
    "    \"\"\"\n",
    "    # Add a bias term (column of ones) to the feature matrix\n",
    "    ones = np.ones(X.shape[0])\n",
    "    X = np.column_stack([ones, X])\n",
    "\n",
    "    # Normal equation: w = (X^T * X)^-1 * X^T * y\n",
    "    XTX = X.T.dot(X)\n",
    "    XTX_inv = np.linalg.inv(XTX)\n",
    "    w = XTX_inv.dot(X.T).dot(y)\n",
    "\n",
    "    return w[0], w[1:]\n",
    "\n",
    "\n",
    "def rmse(y_true, y_pred):\n",
    "    \"\"\"\n",
    "    Calculates the Root Mean Squared Error.\n",
    "    \"\"\"\n",
    "    error = y_true - y_pred\n",
    "    mse = (error**2).mean()\n",
    "    return np.sqrt(mse)"
   ]
  },
  {
   "cell_type": "code",
   "execution_count": 24,
   "id": "392727fc",
   "metadata": {},
   "outputs": [],
   "source": [
    "# Filling missing horsepower with 0\n",
    "X_train_zero = df_train[features].fillna(0).to_numpy()\n",
    "y_train = df_train[target].to_numpy()\n",
    "\n",
    "X_val_zero = df_val[features].fillna(0).to_numpy()\n",
    "y_val = df_val[target].to_numpy()\n",
    "\n",
    "# Train the model\n",
    "w0_zero, w_zero = train_linear_regression(X_train_zero, y_train)\n",
    "\n",
    "# Get predictions on the validation set\n",
    "y_pred_zero = w0_zero + X_val_zero.dot(w_zero)\n",
    "\n",
    "# Calculate and round the RMSE\n",
    "rmse_zero = round(rmse(y_val, y_pred_zero), 2)"
   ]
  },
  {
   "cell_type": "code",
   "execution_count": 25,
   "id": "951fbf9d",
   "metadata": {},
   "outputs": [],
   "source": [
    "# Mean of horsepower from training data\n",
    "horsepower_mean = df_train[\"horsepower\"].mean()\n",
    "\n",
    "# Filling missing values with the calculated mean\n",
    "X_train_mean = df_train[features].fillna(horsepower_mean).to_numpy()\n",
    "X_val_mean = df_val[features].fillna(horsepower_mean).to_numpy()\n",
    "\n",
    "# Notice that y_train and y_val are the same as before\n",
    "\n",
    "# Train the model\n",
    "w0_mean, w_mean = train_linear_regression(X_train_mean, y_train)\n",
    "\n",
    "# Get predictions on the validation set\n",
    "y_pred_mean = w0_mean + X_val_mean.dot(w_mean)\n",
    "\n",
    "# Calculate and round the RMSE\n",
    "rmse_mean = round(rmse(y_val, y_pred_mean), 2)"
   ]
  },
  {
   "cell_type": "code",
   "execution_count": 26,
   "id": "365076fa",
   "metadata": {},
   "outputs": [
    {
     "data": {
      "image/png": "[encoded data removed]",
      "text/plain": [
       "<Figure size 1000x600 with 1 Axes>"
      ]
     },
     "metadata": {},
     "output_type": "display_data"
    }
   ],
   "source": [
    "plt.figure(figsize=(10, 6))\n",
    "sns.histplot(y_pred_zero, color=\"red\", alpha=0.3, bins=50)\n",
    "sns.histplot(y_pred_mean, color=\"green\", alpha=0.3, bins=50)\n",
    "sns.histplot(y_val, color=\"blue\", alpha=0.3, bins=50)\n",
    "plt.title(\"Predictions vs Actuals\")\n",
    "plt.xlabel(\"Fuel Efficiency MPG\")\n",
    "plt.legend(\n",
    "    [\n",
    "        \"Predictions (Fill NA with Zero)\",\n",
    "        \"Predictions (Fill Na with Mean)\",\n",
    "        \"Actual Values\",\n",
    "    ]\n",
    ")\n",
    "plt.show()"
   ]
  },
  {
   "cell_type": "code",
   "execution_count": 27,
   "id": "061ad7c8",
   "metadata": {},
   "outputs": [
    {
     "name": "stdout",
     "output_type": "stream",
     "text": [
      "RMSE when filling missing values in horsepower with zero: 0.52\n",
      "RMSE when filling missing values in horsepower with mean: 0.46\n"
     ]
    }
   ],
   "source": [
    "print(f\"RMSE when filling missing values in horsepower with zero: {rmse_zero}\")\n",
    "print(f\"RMSE when filling missing values in horsepower with mean: {rmse_mean}\")"
   ]
  },
  {
   "cell_type": "markdown",
   "id": "497d8c66",
   "metadata": {},
   "source": [
    "A3: A value closer to zero is better. Therefore filling the missing values with horsepower mean from the training set results into a better RMSE."
   ]
  },
  {
   "cell_type": "markdown",
   "id": "67f56a01",
   "metadata": {},
   "source": [
    "Q4: Best regularization"
   ]
  },
  {
   "cell_type": "markdown",
   "id": "89555440",
   "metadata": {},
   "source": [
    "Notes:\n",
    "- Now let's train a regularized linear regression.\n",
    "- For this question, fill the NAs with 0.\n",
    "- Try different values of r from this list: [0, 0.01, 0.1, 1, 5, 10, 100].\n",
    "- Use RMSE to evaluate the model on the validation dataset.\n",
    "- Round the RMSE scores to 2 decimal digits.\n",
    "- Which r gives the best RMSE?"
   ]
  },
  {
   "cell_type": "code",
   "execution_count": 28,
   "id": "32ae4edf",
   "metadata": {},
   "outputs": [],
   "source": [
    "def train_linear_regression_reg(X, y, r=0.0):\n",
    "    \"\"\"\n",
    "    Trains a regularized linear regression model using the normal equation.\n",
    "    \"\"\"\n",
    "    # Add a bias term (column of ones)\n",
    "    ones = np.ones(X.shape[0])\n",
    "    X = np.column_stack([ones, X])\n",
    "\n",
    "    # Normal equation with regularization: w = (X^T*X + r*I)^-1 * X^T*y\n",
    "    XTX = X.T.dot(X)\n",
    "\n",
    "    # Create the identity matrix for regularization\n",
    "    reg = r * np.eye(XTX.shape[0])\n",
    "\n",
    "    # Set the first element to 0 to not regularize the bias term\n",
    "    # reg[0, 0] = 0\n",
    "\n",
    "    XTX = XTX + reg\n",
    "\n",
    "    XTX_inv = np.linalg.inv(XTX)\n",
    "    w = XTX_inv.dot(X.T).dot(y)\n",
    "\n",
    "    return w[0], w[1:]"
   ]
  },
  {
   "cell_type": "code",
   "execution_count": 29,
   "id": "53e02c6b",
   "metadata": {},
   "outputs": [
    {
     "name": "stdout",
     "output_type": "stream",
     "text": [
      "r = 0    | RMSE = 0.52\n",
      "r = 0.01 | RMSE = 0.52\n",
      "r = 0.1  | RMSE = 0.52\n",
      "r = 1    | RMSE = 0.52\n",
      "r = 5    | RMSE = 0.52\n",
      "r = 10   | RMSE = 0.52\n",
      "r = 100  | RMSE = 0.52\n"
     ]
    }
   ],
   "source": [
    "r_values = [0, 0.01, 0.1, 1, 5, 10, 100]\n",
    "rmse_scores = {}\n",
    "\n",
    "for r in r_values:\n",
    "    # Train the regularized model\n",
    "    w0, w = train_linear_regression_reg(X_train_zero, y_train, r=r)\n",
    "\n",
    "    # Make predictions on the validation set\n",
    "    y_pred = w0 + X_val_zero.dot(w)\n",
    "\n",
    "    # Calculate and round the RMSE\n",
    "    score = round(rmse(y_val, y_pred), 2)\n",
    "\n",
    "    # Store the result\n",
    "    rmse_scores[r] = score\n",
    "\n",
    "    print(f\"r = {r:<4} | RMSE = {score}\")"
   ]
  },
  {
   "cell_type": "code",
   "execution_count": 30,
   "id": "d960b4b2",
   "metadata": {},
   "outputs": [
    {
     "name": "stdout",
     "output_type": "stream",
     "text": [
      "The best RMSE is 0.52, which is achieved with r = 0.\n"
     ]
    }
   ],
   "source": [
    "best_r = min(rmse_scores, key=rmse_scores.get)\n",
    "best_rmse = rmse_scores[best_r]\n",
    "\n",
    "print(f\"The best RMSE is {best_rmse}, which is achieved with r = {best_r}.\")"
   ]
  },
  {
   "cell_type": "markdown",
   "id": "b0334c1e",
   "metadata": {},
   "source": [
    "A4: Best RMSE is achieved with `r = 0`."
   ]
  },
  {
   "cell_type": "markdown",
   "id": "66836baa",
   "metadata": {},
   "source": [
    "Q5: RMSE Standard Deviation"
   ]
  },
  {
   "cell_type": "markdown",
   "id": "933134eb",
   "metadata": {},
   "source": [
    "Notes:\n",
    "- We used seed 42 for splitting the data. Let's find out how selecting the seed influences our score.\n",
    "- Try different seed values: [0, 1, 2, 3, 4, 5, 6, 7, 8, 9].\n",
    "- For each seed, do the train/validation/test split with 60%/20%/20% distribution.\n",
    "- Fill the missing values with 0 and train a model without regularization.\n",
    "- For each seed, evaluate the model on the validation dataset and collect the RMSE scores.\n",
    "- What's the standard deviation of all the scores? To compute the standard deviation, use np.std.\n",
    "- Round the result to 3 decimal digits (round(std, 3))"
   ]
  },
  {
   "cell_type": "code",
   "execution_count": 31,
   "id": "02ed2b13",
   "metadata": {},
   "outputs": [
    {
     "name": "stdout",
     "output_type": "stream",
     "text": [
      "Seed: 0 -> RMSE: 0.521\n",
      "Seed: 1 -> RMSE: 0.521\n",
      "Seed: 2 -> RMSE: 0.523\n",
      "Seed: 3 -> RMSE: 0.516\n",
      "Seed: 4 -> RMSE: 0.511\n",
      "Seed: 5 -> RMSE: 0.528\n",
      "Seed: 6 -> RMSE: 0.531\n",
      "Seed: 7 -> RMSE: 0.509\n",
      "Seed: 8 -> RMSE: 0.515\n",
      "Seed: 9 -> RMSE: 0.513\n"
     ]
    }
   ],
   "source": [
    "seeds = [0, 1, 2, 3, 4, 5, 6, 7, 8, 9]\n",
    "rmse_scores = []\n",
    "\n",
    "for seed in seeds:\n",
    "    # Set the seed for this iteration's data split\n",
    "    np.random.seed(seed)\n",
    "\n",
    "    # Shuffle the dataset indices\n",
    "    n = len(df)\n",
    "    n_val = int(n * 0.2)\n",
    "    n_test = int(n * 0.2)\n",
    "    n_train = n - n_val - n_test\n",
    "\n",
    "    idx = np.arange(n)\n",
    "    np.random.shuffle(idx)\n",
    "\n",
    "    # Create the data splits\n",
    "    df_train = df.iloc[idx[:n_train]].copy()\n",
    "    df_val = df.iloc[idx[n_train : n_train + n_val]].copy()\n",
    "    df_test = df.iloc[idx[n_train + n_val :]].copy()\n",
    "\n",
    "    # Prepare data (fill missing values with 0)\n",
    "    X_train = df_train[features].fillna(0).to_numpy()\n",
    "    y_train = df_train[target].to_numpy()\n",
    "\n",
    "    X_val = df_val[features].fillna(0).to_numpy()\n",
    "    y_val = df_val[target].to_numpy()\n",
    "\n",
    "    # Train the model (without regularization)\n",
    "    w0, w = train_linear_regression(X_train, y_train)\n",
    "    y_pred = w0 + X_val.dot(w)\n",
    "\n",
    "    # Calculate and store the score\n",
    "    score = rmse(y_val, y_pred)\n",
    "    rmse_scores.append(score)\n",
    "\n",
    "    print(f\"Seed: {seed} -> RMSE: {round(score, 3)}\")"
   ]
  },
  {
   "cell_type": "code",
   "execution_count": 32,
   "id": "085eaa61",
   "metadata": {},
   "outputs": [
    {
     "name": "stdout",
     "output_type": "stream",
     "text": [
      "The standard deviation of the RMSE scores is: 0.00699\n"
     ]
    }
   ],
   "source": [
    "# Standard deviation of the scores\n",
    "std_dev = round(np.std(rmse_scores), 5)\n",
    "print(f\"The standard deviation of the RMSE scores is: {std_dev}\")"
   ]
  },
  {
   "cell_type": "markdown",
   "id": "0681f239",
   "metadata": {},
   "source": [
    "A5: Standard deviation of the RMSE score is `0.006`."
   ]
  },
  {
   "cell_type": "markdown",
   "id": "9f1afdc9",
   "metadata": {},
   "source": [
    "Q6: Evaluation on test"
   ]
  },
  {
   "cell_type": "markdown",
   "id": "c582fc78",
   "metadata": {},
   "source": [
    "Notes:\n",
    "- Split the dataset like previously, use seed 9.\n",
    "- Combine train and validation datasets.\n",
    "- Fill the missing values with 0 and train a model with r=0.001.\n",
    "- What's the RMSE on the test dataset?"
   ]
  },
  {
   "cell_type": "code",
   "execution_count": 33,
   "id": "b2c227c6",
   "metadata": {},
   "outputs": [],
   "source": [
    "# Set the seed\n",
    "np.random.seed(seed)\n",
    "\n",
    "# Split the data with 60%/20%/20% distribution\n",
    "n = len(df)\n",
    "n_val = int(n * 0.2)\n",
    "n_test = int(n * 0.2)\n",
    "n_train = n - n_val - n_test\n",
    "\n",
    "idx = np.arange(n)\n",
    "np.random.shuffle(idx)\n",
    "\n",
    "# Create the data splits\n",
    "df_train = df.iloc[idx[:n_train]].copy()\n",
    "df_val = df.iloc[idx[n_train : n_train + n_val]].copy()\n",
    "df_test = df.iloc[idx[n_train + n_val :]].copy()\n",
    "\n",
    "# Combine train and validation datasets\n",
    "df_train_val = pd.concat([df_train, df_val]).reset_index(drop=True)"
   ]
  },
  {
   "cell_type": "code",
   "execution_count": 34,
   "id": "3ecdd0a4",
   "metadata": {},
   "outputs": [
    {
     "name": "stdout",
     "output_type": "stream",
     "text": [
      "The RMSE on the test dataset is: 0.5156\n"
     ]
    }
   ],
   "source": [
    "# Prepare data (fill missing values with 0)\n",
    "X_train_val = df_train_val[features].fillna(0).to_numpy()\n",
    "y_train_val = df_train_val[target].to_numpy()\n",
    "\n",
    "X_test = df_test[features].fillna(0).to_numpy()\n",
    "y_test = df_test[target].to_numpy()\n",
    "\n",
    "# Train the model with r=0.001\n",
    "w0, w = train_linear_regression_reg(X_train_val, y_train_val, r=0.001)\n",
    "\n",
    "# Make predictions on the test set\n",
    "y_pred_test = w0 + X_test.dot(w)\n",
    "\n",
    "# Calculate RMSE on the test set\n",
    "rmse_test = round(rmse(y_test, y_pred_test), 4)\n",
    "\n",
    "print(f\"The RMSE on the test dataset is: {rmse_test}\")"
   ]
  },
  {
   "cell_type": "markdown",
   "id": "17a62961",
   "metadata": {},
   "source": [
    "A6: RMSE on test is `0.515`."
   ]
  }
 ],
 "metadata": {
  "kernelspec": {
   "display_name": "Python 3",
   "language": "python",
   "name": "python3"
  },
  "language_info": {
   "codemirror_mode": {
    "name": "ipython",
    "version": 3
   },
   "file_extension": ".py",
   "mimetype": "text/x-python",
   "name": "python",
   "nbconvert_exporter": "python",
   "pygments_lexer": "ipython3",
   "version": "3.11.1"
  }
 },
 "nbformat": 4,
 "nbformat_minor": 5
}
